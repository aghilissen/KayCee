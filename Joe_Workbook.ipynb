{
 "cells": [
  {
   "cell_type": "code",
   "execution_count": 1,
   "metadata": {},
   "outputs": [],
   "source": [
    "import pandas as pd\n",
    "import matplotlib.pyplot as plt\n",
    "import seaborn as sns\n",
    "import numpy as np\n",
    "import scipy.stats as stats\n",
    "from sklearn.preprocessing import StandardScaler\n",
    "from sklearn.model_selection import train_test_split\n",
    "\n",
    "%matplotlib inline\n",
    "sns.set(rc={'figure.figsize':(12,9)})"
   ]
  },
  {
   "cell_type": "code",
   "execution_count": 2,
   "metadata": {},
   "outputs": [],
   "source": [
    "kc = pd.read_csv('./source/kc_house_data.csv', parse_dates=[1,14])"
   ]
  },
  {
   "cell_type": "code",
   "execution_count": 3,
   "metadata": {},
   "outputs": [
    {
     "name": "stderr",
     "output_type": "stream",
     "text": [
      "/Users/apple/opt/anaconda3/lib/python3.7/site-packages/ipykernel_launcher.py:4: SettingWithCopyWarning: \n",
      "A value is trying to be set on a copy of a slice from a DataFrame\n",
      "\n",
      "See the caveats in the documentation: http://pandas.pydata.org/pandas-docs/stable/user_guide/indexing.html#returning-a-view-versus-a-copy\n",
      "  after removing the cwd from sys.path.\n"
     ]
    },
    {
     "name": "stdout",
     "output_type": "stream",
     "text": [
      "<class 'pandas.core.frame.DataFrame'>\n",
      "Int64Index: 21420 entries, 7316 to 16580\n",
      "Data columns (total 21 columns):\n",
      "id               21420 non-null object\n",
      "date             21420 non-null datetime64[ns]\n",
      "price            21420 non-null float64\n",
      "bedrooms         21420 non-null int64\n",
      "bathrooms        21420 non-null float64\n",
      "sqft_living      21420 non-null int64\n",
      "sqft_lot         21420 non-null int64\n",
      "floors           21420 non-null float64\n",
      "waterfront       19067 non-null float64\n",
      "view             21420 non-null float64\n",
      "condition        21420 non-null int64\n",
      "grade            21420 non-null int64\n",
      "sqft_above       21420 non-null int64\n",
      "sqft_basement    21420 non-null float64\n",
      "yr_built         21420 non-null datetime64[ns]\n",
      "yr_renovated     17607 non-null datetime64[ns]\n",
      "zipcode          21420 non-null object\n",
      "lat              21420 non-null float64\n",
      "long             21420 non-null float64\n",
      "sqft_living15    21420 non-null int64\n",
      "sqft_lot15       21420 non-null int64\n",
      "dtypes: datetime64[ns](3), float64(8), int64(8), object(2)\n",
      "memory usage: 3.6+ MB\n"
     ]
    },
    {
     "name": "stderr",
     "output_type": "stream",
     "text": [
      "/Users/apple/opt/anaconda3/lib/python3.7/site-packages/pandas/core/ops/__init__.py:1115: FutureWarning: elementwise comparison failed; returning scalar instead, but in the future will perform elementwise comparison\n",
      "  result = method(y)\n"
     ]
    }
   ],
   "source": [
    "properties_data_altered = {}\n",
    "for i in range(0,len(kc['id'])-1):\n",
    "        if kc['sqft_basement'][i] == '?':\n",
    "            kc['sqft_basement'][i] = 0\n",
    "        properties_data_altered[kc['id'][i]] = 'sqft_basement'\n",
    "\n",
    "# 33 bedrooms house? It is a typo (the 11 bedrooms one checks out though)\n",
    "properties_data_altered[kc[kc['bedrooms']==33].iloc[0]['id']] = '33_bedrooms'\n",
    "kc['bedrooms'] = kc['bedrooms'].replace(33,3)\n",
    "\n",
    "# view, 63 empties changed to zeros\n",
    "for i in kc[kc['view'].isnull()]['id']:\n",
    "    properties_data_altered[i] = 'views'\n",
    "kc['view'] = kc['view'].fillna(0)\n",
    "\n",
    "# yr_renovated, 16900 zeros changed to NaN\n",
    "for i in kc[kc['yr_renovated']=='0.0']['id']:\n",
    "    properties_data_altered[i] = 'yr_renovated'\n",
    "kc['yr_renovated'] = kc['yr_renovated'].replace('0.0', np.nan)\n",
    "\n",
    "# sorting out data types:\n",
    "kc['id'] = kc['id'].astype(str)\n",
    "# kc['bathrooms'] = kc['bathrooms'].astype(str)\n",
    "# kc['bedrooms'] = kc['bedrooms'].astype(str)\n",
    "# kc['condition'] = kc['condition'].astype(str)\n",
    "# kc['floors'] = kc['floors'].astype(str)\n",
    "# kc['grade'] = kc['grade'].astype(str)\n",
    "kc['sqft_basement'] = kc['sqft_basement'].astype(float)\n",
    "# kc['view'] = kc['view'].astype(str)\n",
    "# kc['waterfront'] = kc['waterfront'].astype(str)\n",
    "kc['yr_renovated'] = pd.to_datetime(kc['yr_renovated'])\n",
    "kc['zipcode'] = kc['zipcode'].astype(str)\n",
    "\n",
    "# split dataframes: properties sold more than once in the timeframe vs all properties without duplicates\n",
    "kc_duplicated = kc[kc.duplicated(['id'],keep=False)]\n",
    "kc = kc.sort_values('date').drop_duplicates('id',keep='last')\n",
    "\n",
    "\n",
    "kc.info()"
   ]
  },
  {
   "cell_type": "code",
   "execution_count": 4,
   "metadata": {},
   "outputs": [
    {
     "data": {
      "text/plain": [
       "7316     98006\n",
       "20586    98065\n",
       "1040     98052\n",
       "20543    98106\n",
       "9587     98117\n",
       "         ...  \n",
       "19381    98116\n",
       "12623    98023\n",
       "5632     98007\n",
       "13040    98115\n",
       "16580    98115\n",
       "Name: zipcode, Length: 21420, dtype: object"
      ]
     },
     "execution_count": 4,
     "metadata": {},
     "output_type": "execute_result"
    }
   ],
   "source": [
    "kc.zipcode"
   ]
  },
  {
   "cell_type": "code",
   "execution_count": 5,
   "metadata": {},
   "outputs": [
    {
     "data": {
      "image/png": "[encoded data removed]",
      "text/plain": [
       "<Figure size 432x288 with 1 Axes>"
      ]
     },
     "metadata": {
      "needs_background": "light"
     },
     "output_type": "display_data"
    },
    {
     "data": {
      "text/plain": [
       "<Figure size 864x648 with 0 Axes>"
      ]
     },
     "metadata": {},
     "output_type": "display_data"
    }
   ],
   "source": [
    "\n",
    "sns.distplot(kc['price'], bins=100, hist_kws={'alpha':0.4})\n",
    "fig = plt.figure(figsize=(12,9))\n"
   ]
  },
  {
   "cell_type": "code",
   "execution_count": 6,
   "metadata": {},
   "outputs": [
    {
     "data": {
      "text/plain": [
       "4.035378874466088"
      ]
     },
     "execution_count": 6,
     "metadata": {},
     "output_type": "execute_result"
    }
   ],
   "source": [
    "kc['price'].skew()"
   ]
  },
  {
   "cell_type": "code",
   "execution_count": 7,
   "metadata": {},
   "outputs": [
    {
     "data": {
      "text/plain": [
       "34.680504355450644"
      ]
     },
     "execution_count": 7,
     "metadata": {},
     "output_type": "execute_result"
    }
   ],
   "source": [
    "kc['price'].kurt()"
   ]
  },
  {
   "cell_type": "code",
   "execution_count": null,
   "metadata": {},
   "outputs": [],
   "source": [
    "pd.plotting.scatter_matrix(kc,figsize  = [20, 20]);\n",
    "plt.show()"
   ]
  },
  {
   "cell_type": "code",
   "execution_count": null,
   "metadata": {},
   "outputs": [],
   "source": [
    "from sklearn.feature_selection import RFE\n",
    "from sklearn.linear_model import LinearRegression\n"
   ]
  },
  {
   "cell_type": "code",
   "execution_count": null,
   "metadata": {},
   "outputs": [],
   "source": [
    "kc.zipcode.value_counts()"
   ]
  },
  {
   "cell_type": "code",
   "execution_count": null,
   "metadata": {},
   "outputs": [],
   "source": [
    "zipcode = kc['zipcode'].value_counts()\n",
    "\n",
    "\n",
    "\n",
    "fig, ax = plt.subplots(ncols=2, figsize=(14,5))\n",
    "sns.countplot(x='zipcode', data=kc, ax=ax[0])\n",
    "sns.boxplot(x='zipcode', y= 'price',\n",
    "            data=kc, ax=ax[1])\n",
    "plt.show()"
   ]
  },
  {
   "cell_type": "code",
   "execution_count": null,
   "metadata": {},
   "outputs": [],
   "source": [
    "plt.figure(figsize = (12,8))\n",
    "g = sns.FacetGrid(data=kc, hue='zipcode',size= 5, aspect=2)\n",
    "g.map(plt.scatter, \"sqft_living\", \"price\")\n",
    "\n",
    "plt.show()"
   ]
  },
  {
   "cell_type": "code",
   "execution_count": null,
   "metadata": {},
   "outputs": [],
   "source": [
    "kc_zip = kc.groupby('zipcode')['price'].mean().reset_index()\n",
    "\n",
    "kc_zip = kc_zip.sort_values(by=['price'])\n",
    "\n",
    "plt.figure(figsize = (12,8))\n",
    "plt.scatter(x=kc_zip['zipcode'], y=kc_zip['price'])\n"
   ]
  },
  {
   "cell_type": "code",
   "execution_count": null,
   "metadata": {},
   "outputs": [],
   "source": [
    "import folium\n",
    "import geopandas as gpd"
   ]
  },
  {
   "cell_type": "code",
   "execution_count": null,
   "metadata": {},
   "outputs": [],
   "source": [
    "kc_zip_mean= kc.groupby('zipcode').aggregate(np.mean)\n",
    "kc_zip_mean.head()\n",
    "kc_zip_mean.drop(['lat', 'long'], axis=1, inplace=True)\n",
    "\n",
    "kc_zip_mean.reset_index(inplace = True)\n",
    "kc_zip_mean.head()\n",
    "\n"
   ]
  },
  {
   "cell_type": "code",
   "execution_count": null,
   "metadata": {},
   "outputs": [],
   "source": [
    "\n",
    "map_kc = gpd.read_file('source/Zip_Codes/Zip_Codes.shp')\n",
    "\n",
    "map_kc.head()\n"
   ]
  },
  {
   "cell_type": "code",
   "execution_count": null,
   "metadata": {},
   "outputs": [],
   "source": [
    "\n",
    "map_kc['zipcode'] = map_kc['ZIPCODE']\n",
    "map_kc.drop(['ZIP', 'ZIPCODE', 'OBJECTID'], axis=1, inplace=True)\n",
    "map_kc.head()"
   ]
  },
  {
   "cell_type": "code",
   "execution_count": null,
   "metadata": {},
   "outputs": [],
   "source": [
    "merged = pd.merge(map_kc, kc_zip_mean, on='zipcode')\n",
    "\n",
    "merged.head()"
   ]
  },
  {
   "cell_type": "code",
   "execution_count": null,
   "metadata": {},
   "outputs": [],
   "source": [
    "gdf=gpd.GeoDataFrame(merged, geometry=merged.geometry)\n",
    "\n",
    "gdf.plot(column='price', k=5, colormap='OrRd', legend=True, figsize=(20,12))\n"
   ]
  },
  {
   "cell_type": "code",
   "execution_count": null,
   "metadata": {},
   "outputs": [],
   "source": [
    "import fiona\n",
    "import pysal as ps\n",
    "\n",
    "from IPython.display import IFrame\n",
    "gdf_test = gpd.read_file('source/Zip_Codes/Zip_Codes.shp')\n",
    "\n",
    "\n",
    "gdf_test.head()"
   ]
  },
  {
   "cell_type": "code",
   "execution_count": null,
   "metadata": {},
   "outputs": [],
   "source": [
    "%store -r hot_zip_codes\n",
    "hot_zip_codes.reset_index(inplace=True)\n",
    "hot_zip_codes['zipcode']=hot_zip_codes['zipcode'].astype(str)\n"
   ]
  },
  {
   "cell_type": "code",
   "execution_count": null,
   "metadata": {},
   "outputs": [],
   "source": [
    "hot_zip_codes.drop(['lat', 'long'], axis=1, inplace=True)\n",
    "hot_zip_codes"
   ]
  },
  {
   "cell_type": "code",
   "execution_count": null,
   "metadata": {},
   "outputs": [],
   "source": [
    "appended_data = []\n",
    "\n",
    "for zipcode in list(kc['zipcode'].unique()):\n",
    "    if zipcode not in list(hot_zip_codes['zipcode']):\n",
    "        appended_data.append({'zipcode':zipcode, 'rate_of_price_increase':0})\n",
    "        \n",
    "appended_df = pd.DataFrame(data=appended_data)\n",
    "\n",
    "merged_df = pd.concat([hot_zip_codes, appended_df], axis=0)\n",
    "\n",
    "merged_df['zipcode'].nunique()"
   ]
  },
  {
   "cell_type": "code",
   "execution_count": null,
   "metadata": {},
   "outputs": [],
   "source": [
    "merged_2 = pd.merge(merged, merged_df, on='zipcode')\n",
    "\n",
    "merged_2.info()"
   ]
  },
  {
   "cell_type": "code",
   "execution_count": null,
   "metadata": {},
   "outputs": [],
   "source": [
    "gdf=gpd.GeoDataFrame(merged_2, geometry=merged_2.geometry)\n",
    "\n",
    "gdf.plot(column='rate_of_price_increase', k=5, colormap='OrRd', legend=True, figsize=(20,12))\n"
   ]
  },
  {
   "cell_type": "code",
   "execution_count": null,
   "metadata": {},
   "outputs": [],
   "source": [
    "merged_2"
   ]
  },
  {
   "cell_type": "code",
   "execution_count": null,
   "metadata": {},
   "outputs": [],
   "source": [
    "merged_2"
   ]
  },
  {
   "cell_type": "code",
   "execution_count": null,
   "metadata": {},
   "outputs": [],
   "source": [
    "hot_zipcodes_list = ['98034','98011','98028','98155','98133','98177',\n",
    "                     '98125','98115','98103','98117','98107','98199']\n",
    "\n",
    "\n",
    "\n",
    "kc_hot_zipcodes = kc[kc.zipcode.isin(hot_zipcodes_list)]\n",
    "\n",
    "\n",
    "\n",
    "kc_hot_zipcodes\n",
    "\n"
   ]
  },
  {
   "cell_type": "code",
   "execution_count": null,
   "metadata": {},
   "outputs": [],
   "source": [
    "zipcode = kc_hot_zipcodes['zipcode'].value_counts()\n",
    "\n",
    "\n",
    "\n",
    "fig, ax = plt.subplots(ncols=2, figsize=(14,5))\n",
    "sns.countplot(x='zipcode', data=kc_hot_zipcodes, ax=ax[0])\n",
    "sns.boxplot(x='zipcode', y= 'price',\n",
    "            data=kc_hot_zipcodes, ax=ax[1])\n",
    "plt.show()"
   ]
  },
  {
   "cell_type": "code",
   "execution_count": null,
   "metadata": {},
   "outputs": [],
   "source": [
    "plt.figure(figsize = (12,8))\n",
    "g = sns.FacetGrid(data=kc_hot_zipcodes, hue='zipcode',size= 5, aspect=2)\n",
    "g.map(plt.scatter, \"sqft_living\", \"price\")\n",
    "plt.legend()\n",
    "plt.show()"
   ]
  },
  {
   "cell_type": "code",
   "execution_count": null,
   "metadata": {},
   "outputs": [],
   "source": [
    "corr = kc_hot_zipcodes.corr()\n",
    "corr.style.background_gradient().set_precision(2)"
   ]
  },
  {
   "cell_type": "code",
   "execution_count": null,
   "metadata": {},
   "outputs": [],
   "source": [
    "# kc_hot_zipcodes['bathrooms'] = kc_hot_zipcodes['bathrooms'].astype(str)\n",
    "# kc_hot_zipcodes['bedrooms'] = kc_hot_zipcodes['bedrooms'].astype(str)\n",
    "# kc_hot_zipcodes['condition'] = kc_hot_zipcodes['condition'].astype(str)\n",
    "# kc_hot_zipcodes['floors'] = kc_hot_zipcodes['floors'].astype(str)\n",
    "# kc_hot_zipcodes['grade'] = kc_hot_zipcodes['grade'].astype(str)\n",
    "# kc_hot_zipcodes['sqft_basement'] = kc_hot_zipcodes['sqft_basement'].astype(float)\n",
    "# kc_hot_zipcodes['view'] = kc_hot_zipcodes['view'].astype(str)\n",
    "# kc_hot_zipcodes['waterfront'] = kc_hot_zipcodes['waterfront'].astype(str)\n",
    "# kc_hot_zipcodes['yr_renovated'] = pd.to_datetime(kc_hot_zipcodes['yr_renovated'])"
   ]
  },
  {
   "cell_type": "code",
   "execution_count": null,
   "metadata": {},
   "outputs": [],
   "source": [
    "kc_hot_zipcodes.info()"
   ]
  },
  {
   "cell_type": "code",
   "execution_count": null,
   "metadata": {},
   "outputs": [],
   "source": [
    "\n",
    "\n"
   ]
  },
  {
   "cell_type": "code",
   "execution_count": null,
   "metadata": {},
   "outputs": [],
   "source": [
    "# Whole Population \n",
    "kc_grade = kc_hot_zipcodes.sort_values(by=['grade'])\n",
    "kc_grade_full = kc.sort_values(by =['grade'])\n",
    "\n",
    "plt.figure(figsize = (12,8))\n",
    "plt.subplots_adjust(hspace = 0.4, top = 1.5)\n",
    "\n",
    "ax1 = plt.subplot(321)\n",
    "ax1 = sns.countplot(x=\"grade\", data=kc_grade_full,\n",
    "                    ax=ax1)\n",
    "ax1.set_xticklabels(ax1.get_xticklabels(),rotation=90)\n",
    "ax1.set_title(\"Grade Distribution for Whole Population\", fontsize=15)\n",
    "\n",
    "ax1.set_xlabel(\"grade\")\n",
    "\n",
    "# Add in Plot 2\n",
    "\n",
    "ax2 = plt.subplot(322)\n",
    "ax2 = sns.countplot(x=\"grade\", data=kc_grade,\n",
    "                    ax=ax2)\n",
    "ax2.set_xticklabels(ax2.get_xticklabels(),rotation=90)\n",
    "ax2.set_title(\"Grade Distribution for Hot Zip Codes\", fontsize=15)\n",
    "ax2.set_xlabel(\"grade\")\n",
    "\n",
    "ax3 = plt.subplot(312)\n",
    "ax3 = sns.stripplot(x=\"grade\", y=\"price\",\n",
    "                    data=kc_grade, alpha=0.5,\n",
    "                    jitter=True, hue=\"zipcode\"\n",
    "                   )\n",
    "ax3.set_title(\"Grade/Price Distribution for Hot Zipcodes\", fontsize=15)\n",
    "ax3.set_xlabel(\"grade number\")\n",
    "ax3.set_ylabel(\"price\")\n",
    "ax3.set_xticklabels(ax3.get_xticklabels(),rotation=90)\n",
    "plt.legend().remove()\n",
    "           \n",
    "ax4 = plt.subplot(313)\n",
    "ax4 = sns.stripplot(x=\"grade\", y=\"price\",\n",
    "                    data=kc_grade_full, alpha=0.5,\n",
    "                    jitter=True, hue=\"zipcode\"\n",
    "                   )\n",
    "ax4.set_title(\"Grade/Price Distribution for Whole Population\", fontsize=15)\n",
    "ax4.set_xlabel(\"grade number\")\n",
    "ax4.set_ylabel(\"price\")\n",
    "\n",
    "ax4.set_xticklabels(ax4.get_xticklabels(),rotation=90)\n",
    "\n",
    "plt.legend().remove()\n",
    "plt.show()"
   ]
  },
  {
   "cell_type": "code",
   "execution_count": null,
   "metadata": {},
   "outputs": [],
   "source": [
    "kc_hot_zipcodes.info()"
   ]
  },
  {
   "cell_type": "code",
   "execution_count": null,
   "metadata": {},
   "outputs": [],
   "source": [
    "kc_not_hot_zipcodes = kc[~kc.zipcode.isin(hot_zipcodes_list)]\n",
    "\n",
    "kc_not_hot_zipcodes"
   ]
  },
  {
   "cell_type": "code",
   "execution_count": null,
   "metadata": {},
   "outputs": [],
   "source": []
  },
  {
   "cell_type": "code",
   "execution_count": null,
   "metadata": {},
   "outputs": [],
   "source": []
  },
  {
   "cell_type": "code",
   "execution_count": null,
   "metadata": {},
   "outputs": [],
   "source": [
    "scaler = StandardScaler()"
   ]
  },
  {
   "cell_type": "code",
   "execution_count": null,
   "metadata": {},
   "outputs": [],
   "source": []
  },
  {
   "cell_type": "code",
   "execution_count": null,
   "metadata": {},
   "outputs": [],
   "source": []
  },
  {
   "cell_type": "code",
   "execution_count": null,
   "metadata": {},
   "outputs": [],
   "source": [
    "X = kc_hot_zipcodes[['bedrooms', 'bathrooms', 'sqft_living', 'sqft_lot',\n",
    "                   'floors', 'condition', 'grade']]\n",
    "y = kc_hot_zipcodes['price']\n",
    "\n",
    "scaled_X = pd.DataFrame(scaler.fit_transform(X), columns=X.columns)\n",
    "\n"
   ]
  },
  {
   "cell_type": "code",
   "execution_count": null,
   "metadata": {},
   "outputs": [],
   "source": [
    "scaled_X"
   ]
  },
  {
   "cell_type": "code",
   "execution_count": null,
   "metadata": {},
   "outputs": [],
   "source": [
    "X_train, X_test, y_train, y_test = train_test_split(scaled_X, y, test_size=0.2, random_state=0)"
   ]
  },
  {
   "cell_type": "code",
   "execution_count": null,
   "metadata": {},
   "outputs": [],
   "source": [
    "model_kc = LinearRegression()  \n",
    "model_kc.fit(X_train, y_train) #training the algorithms\n"
   ]
  },
  {
   "cell_type": "code",
   "execution_count": null,
   "metadata": {},
   "outputs": [],
   "source": [
    "#To retrieve the intercept:\n",
    "print(model_kc.intercept_)\n",
    "#For retrieving the slope:\n",
    "print(model_kc.coef_)"
   ]
  },
  {
   "cell_type": "code",
   "execution_count": null,
   "metadata": {},
   "outputs": [],
   "source": [
    "y_pred = model_kc.predict(X_test)"
   ]
  },
  {
   "cell_type": "code",
   "execution_count": null,
   "metadata": {},
   "outputs": [],
   "source": [
    "coeff_kc = pd.DataFrame(model_kc.coef_, scaled_X.columns, columns=['Coefficient'])  \n",
    "coeff_kc"
   ]
  },
  {
   "cell_type": "code",
   "execution_count": null,
   "metadata": {},
   "outputs": [],
   "source": [
    "model_kc.fit(X,y)\n",
    "\n",
    "# Evaluating performance\n",
    "r2 = model_kc.score(X,y)\n",
    "r2 = r2.round(2)\n",
    "print('R2 = {}'.format(r2))\n",
    "\n",
    "# Understanding the LEARNED model\n",
    "est_a = model_kc.intercept_\n",
    "est_B = model_kc.coef_\n",
    "print('constant: {}'.format(round(est_a,4)))\n",
    "print('coeficients:  {} estimated'.format(est_B.round(4)))\n",
    "coeff_kc"
   ]
  },
  {
   "cell_type": "code",
   "execution_count": null,
   "metadata": {},
   "outputs": [],
   "source": [
    "model_kc_results = pd.DataFrame({'Actual': y_test, 'Predicted': y_pred})\n",
    "\n",
    "g = sns.lmplot(x=\"Predicted\", y=\"Actual\", data=model_kc_results)"
   ]
  },
  {
   "cell_type": "code",
   "execution_count": null,
   "metadata": {},
   "outputs": [],
   "source": [
    "sns.distplot(y_pred)"
   ]
  },
  {
   "cell_type": "code",
   "execution_count": null,
   "metadata": {},
   "outputs": [],
   "source": [
    "X_not_hot_zipcodes = kc_not_hot_zipcodes[['bedrooms', 'bathrooms', 'sqft_living', 'sqft_lot',\n",
    "                   'floors', 'condition', 'grade']]\n",
    "y_not_hot_zipcodes = kc_not_hot_zipcodes['price']\n",
    "\n",
    "scaled_X_not_hot_zipcodes = pd.DataFrame(scaler.fit_transform(X_not_hot_zipcodes), columns=X_not_hot_zipcodes.columns)\n",
    "\n",
    "\n"
   ]
  },
  {
   "cell_type": "code",
   "execution_count": null,
   "metadata": {},
   "outputs": [],
   "source": [
    "X_train_2, X_test_2, y_train_2, y_test_2 = train_test_split(scaled_X_not_hot_zipcodes, y_not_hot_zipcodes,\n",
    "                                                     test_size=0.2, random_state=0)"
   ]
  },
  {
   "cell_type": "code",
   "execution_count": null,
   "metadata": {},
   "outputs": [],
   "source": [
    "model_kc_not_hot_zipcodes = LinearRegression()  \n",
    "model_kc_not_hot_zipcodes.fit(X_train_2, y_train_2) #training the algorithms"
   ]
  },
  {
   "cell_type": "code",
   "execution_count": null,
   "metadata": {},
   "outputs": [],
   "source": [
    "y_pred_not_hot_zipcodes = model_kc.predict(X_test_2)"
   ]
  },
  {
   "cell_type": "code",
   "execution_count": null,
   "metadata": {},
   "outputs": [],
   "source": [
    "coeff_kc_not_hot_zipcodes = pd.DataFrame(model_kc_not_hot_zipcodes.coef_, scaled_X_not_hot_zipcodes.columns,\n",
    "                                         columns=['Coefficient'])  \n",
    "coeff_kc_not_hot_zipcodes"
   ]
  },
  {
   "cell_type": "code",
   "execution_count": null,
   "metadata": {},
   "outputs": [],
   "source": [
    "model_kc.fit(X_not_hot_zipcodes,y_not_hot_zipcodes)\n",
    "\n",
    "# Evaluating performance\n",
    "r2 = model_kc.score(X_not_hot_zipcodes,y_not_hot_zipcodes)\n",
    "r2 = r2.round(2)\n",
    "print('R2 = {}'.format(r2))\n",
    "\n",
    "# Understanding the LEARNED model\n",
    "est_a = model_kc_not_hot_zipcodes.intercept_\n",
    "est_B = model_kc_not_hot_zipcodes.coef_\n",
    "print('constant: {}'.format(round(est_a,4)))\n",
    "print('coeficients:  {} estimated'.format(est_B.round(4)))\n",
    "coeff_kc_not_hot_zipcodes"
   ]
  },
  {
   "cell_type": "code",
   "execution_count": null,
   "metadata": {},
   "outputs": [],
   "source": [
    "model_kc_not_hot_zipcdoes_results = pd.DataFrame({'Actual': y_test_2, 'Predicted': y_pred_not_hot_zipcodes})\n",
    "\n",
    "g = sns.lmplot(x=\"Predicted\", y=\"Actual\", data=model_kc_not_hot_zipcdoes_results)"
   ]
  },
  {
   "cell_type": "code",
   "execution_count": null,
   "metadata": {},
   "outputs": [],
   "source": [
    "\n",
    "sns.distplot(y_pred_not_hot_zipcodes)\n"
   ]
  },
  {
   "cell_type": "code",
   "execution_count": null,
   "metadata": {},
   "outputs": [],
   "source": [
    "coeff_kc_not_hot_zipcodes - coeff_kc"
   ]
  },
  {
   "cell_type": "code",
   "execution_count": null,
   "metadata": {},
   "outputs": [],
   "source": [
    "# gdf=gpd.GeoDataFrame(merged_2, geometry=merged_2.geometry)\n",
    "\n",
    "# gdf.plot(column='rate_of_price_increase', k=5, colormap='OrRd', legend=True, figsize=(20,12))\n",
    "\n",
    "kc_not_hot_zipcodes"
   ]
  },
  {
   "cell_type": "code",
   "execution_count": null,
   "metadata": {},
   "outputs": [],
   "source": [
    "\n",
    "colors = sns.color_palette('Set2',2)\n",
    "\n",
    "sns.set_style('dark')\n",
    "\n",
    "sns.distplot(kc_hot_zipcodes['price'], bins=400,  color = colors[0])\n",
    "sns.distplot(kc_not_hot_zipcodes['price'], bins=400,  color = colors[1])\n",
    "\n",
    "plt.xlim(0, 2500000)\n",
    "\n",
    "plt.show()\n"
   ]
  },
  {
   "cell_type": "code",
   "execution_count": null,
   "metadata": {},
   "outputs": [],
   "source": [
    "merged_2['hot_zipcode'] = 0\n",
    "print(len(hot_zipcodes_list))\n",
    "merged_2.loc[merged_2.zipcode.isin(hot_zipcodes_list), 'hot_zipcode'] = 1\n",
    "\n",
    "merged_2['hot_zipcode'].values"
   ]
  },
  {
   "cell_type": "code",
   "execution_count": null,
   "metadata": {},
   "outputs": [],
   "source": [
    "gdf=gpd.GeoDataFrame(merged_2, geometry=merged_2.geometry)\n",
    "\n",
    "gdf.plot(column='hot_zipcode', k=5, colormap='OrRd', legend=True, figsize=(20,12))\n",
    "\n"
   ]
  },
  {
   "cell_type": "code",
   "execution_count": null,
   "metadata": {},
   "outputs": [],
   "source": [
    "merged_2['coords'] = merged_2['geometry'].apply(lambda x: x.representative_point().coords[:])\n",
    "merged_2['coords'] = [coords[0] for coords in merged_2['coords']]"
   ]
  },
  {
   "cell_type": "code",
   "execution_count": null,
   "metadata": {},
   "outputs": [],
   "source": [
    "merged_2.plot(column='hot_zipcode', k=5, cmap='OrRd_r', legend=False, figsize=(30,30))\n",
    "for index, row in merged_2.iterrows():\n",
    "    plt.annotate(s=row['zipcode'], xy=row['coords'],\n",
    "                 horizontalalignment='center')\n"
   ]
  },
  {
   "cell_type": "code",
   "execution_count": null,
   "metadata": {},
   "outputs": [],
   "source": []
  }
 ],
 "metadata": {
  "kernelspec": {
   "display_name": "Python 3",
   "language": "python",
   "name": "python3"
  },
  "language_info": {
   "codemirror_mode": {
    "name": "ipython",
    "version": 3
   },
   "file_extension": ".py",
   "mimetype": "text/x-python",
   "name": "python",
   "nbconvert_exporter": "python",
   "pygments_lexer": "ipython3",
   "version": "3.7.4"
  }
 },
 "nbformat": 4,
 "nbformat_minor": 2
}
