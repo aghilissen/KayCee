{
 "cells": [
  {
   "cell_type": "code",
   "execution_count": 1,
   "metadata": {},
   "outputs": [],
   "source": [
    "import numpy as np\n",
    "import pandas as pd\n",
    "import matplotlib.pyplot as plt\n",
    "import seaborn as sns\n",
    "# import warnings\n",
    "# warnings.filterwarnings('ignore')\n",
    "%matplotlib inline\n",
    "#pd.set_option('display.float_format', lambda x: '%.3f' % x)\n",
    "kc = pd.read_csv('./source/kc_house_data.csv', parse_dates=[1,14])"
   ]
  },
  {
   "cell_type": "code",
   "execution_count": 2,
   "metadata": {
    "scrolled": true
   },
   "outputs": [
    {
     "name": "stderr",
     "output_type": "stream",
     "text": [
      "<ipython-input-2-abb401426ca2>:9: SettingWithCopyWarning: \n",
      "A value is trying to be set on a copy of a slice from a DataFrame\n",
      "\n",
      "See the caveats in the documentation: http://pandas.pydata.org/pandas-docs/stable/user_guide/indexing.html#returning-a-view-versus-a-copy\n",
      "  kc['sqft_basement'][i] = 0\n",
      "/home/antoine/.local/lib/python3.8/site-packages/pandas/core/ops/__init__.py:1115: FutureWarning: elementwise comparison failed; returning scalar instead, but in the future will perform elementwise comparison\n",
      "  result = method(y)\n"
     ]
    }
   ],
   "source": [
    "## Cleaning the data\n",
    "\n",
    "# waterfront, although incomplete, hasn't been altered due to the complexity of the variable assignment\n",
    "\n",
    "# sqft_basement: 454 '?' values changed to zero.\n",
    "properties_data_altered = {}\n",
    "for i in range(0,len(kc['id'])-1):\n",
    "        if kc['sqft_basement'][i] == '?':\n",
    "            kc['sqft_basement'][i] = 0\n",
    "        properties_data_altered[kc['id'][i]] = 'sqft_basement'\n",
    "kc['sqft_basement'] = kc['sqft_basement'].astype(float)\n",
    "\n",
    "# 33 bedrooms house? It is a typo (the 11 bedrooms one checks out though)\n",
    "properties_data_altered[kc[kc['bedrooms']==33].iloc[0]['id']] = '33_bedrooms'\n",
    "kc['bedrooms'] = kc['bedrooms'].replace(33,3)\n",
    "\n",
    "# view, 63 empties changed to zeros\n",
    "for i in kc[kc['view'].isnull()]['id']:\n",
    "    properties_data_altered[i] = 'views'\n",
    "kc['view'] = kc['view'].fillna(0)\n",
    "\n",
    "# yr_renovated, 16900 zeros changed to NaN\n",
    "for i in kc[kc['yr_renovated']=='0.0']['id']:\n",
    "    properties_data_altered[i] = 'yr_renovated'\n",
    "kc['yr_renovated'] = kc['yr_renovated'].replace('0.0', np.nan)\n",
    "kc['yr_renovated'] = pd.to_datetime(kc['yr_renovated'])\n",
    "\n",
    "# split dataframes: properties sold more than once in the timeframe vs all properties without duplicates\n",
    "kc_duplicated = kc[kc.duplicated(['id'],keep=False)]\n",
    "kc = kc.sort_values('date').drop_duplicates('id',keep='last')"
   ]
  },
  {
   "cell_type": "code",
   "execution_count": 10,
   "metadata": {},
   "outputs": [
    {
     "data": {
      "image/png": "[encoded data removed]",
      "text/plain": [
       "<Figure size 1080x720 with 1 Axes>"
      ]
     },
     "metadata": {
      "needs_background": "light"
     },
     "output_type": "display_data"
    }
   ],
   "source": [
    "bedrooms_per_house_count = []\n",
    "for i in list(range(1,12)):\n",
    "    bedrooms_per_house_count.append(len(kc[kc['bedrooms']==i]))\n",
    "fig, ax = plt.subplots(figsize=(15,10))\n",
    "ax.bar(list(range(1,12)),bedrooms_per_house_count)\n",
    "plt.show()"
   ]
  },
  {
   "cell_type": "code",
   "execution_count": null,
   "metadata": {},
   "outputs": [],
   "source": [
    "# market_fragmentation = {}\n",
    "# kc1 = kc[kc['bedrooms']==3]\n",
    "# kc2 = kc1#[kc1['condition']==5]\n",
    "\n",
    "# for i in kc2['zipcode'].unique():\n",
    "#     kc3 = kc2[kc2['zipcode']==i]\n",
    "#     market_fragmentation[i] = len(kc3)\n",
    "#     sns.scatterplot('sqft_living','price',data=kc3,hue=kc3['condition'])\n",
    "#     plt.title(f'zipcode:{i}, number of houses: {market_fragmentation[i]}')\n",
    "#     plt.show()\n",
    "# test to ensure all values have been plotted\n",
    "# sum(market_fragmentation.values())==len(kc2)"
   ]
  }
 ],
 "metadata": {
  "kernelspec": {
   "display_name": "Python 3",
   "language": "python",
   "name": "python3"
  },
  "language_info": {
   "codemirror_mode": {
    "name": "ipython",
    "version": 3
   },
   "file_extension": ".py",
   "mimetype": "text/x-python",
   "name": "python",
   "nbconvert_exporter": "python",
   "pygments_lexer": "ipython3",
   "version": "3.8.1"
  }
 },
 "nbformat": 4,
 "nbformat_minor": 2
}
