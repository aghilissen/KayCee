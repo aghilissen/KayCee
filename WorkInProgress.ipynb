{
 "cells": [
  {
   "cell_type": "code",
   "execution_count": 41,
   "metadata": {},
   "outputs": [],
   "source": [
    "import numpy as np\n",
    "import pandas as pd\n",
    "import matplotlib.pyplot as plt\n",
    "import seaborn as sns\n",
    "# import warnings\n",
    "# warnings.filterwarnings('ignore')\n",
    "%matplotlib inline\n",
    "#pd.set_option('display.float_format', lambda x: '%.3f' % x)\n",
    "kc = pd.read_csv('./source/kc_house_data.csv', parse_dates=[1,14])"
   ]
  },
  {
   "cell_type": "code",
   "execution_count": 42,
   "metadata": {
    "scrolled": true
   },
   "outputs": [
    {
     "name": "stderr",
     "output_type": "stream",
     "text": [
      "<ipython-input-42-050c3f8d7ae5>:9: SettingWithCopyWarning: \n",
      "A value is trying to be set on a copy of a slice from a DataFrame\n",
      "\n",
      "See the caveats in the documentation: http://pandas.pydata.org/pandas-docs/stable/user_guide/indexing.html#returning-a-view-versus-a-copy\n",
      "  kc['sqft_basement'][i] = 0\n",
      "/home/antoine/.local/lib/python3.8/site-packages/pandas/core/ops/__init__.py:1115: FutureWarning: elementwise comparison failed; returning scalar instead, but in the future will perform elementwise comparison\n",
      "  result = method(y)\n"
     ]
    },
    {
     "name": "stdout",
     "output_type": "stream",
     "text": [
      "<class 'pandas.core.frame.DataFrame'>\n",
      "Int64Index: 21420 entries, 7316 to 16580\n",
      "Data columns (total 21 columns):\n",
      "id               21420 non-null object\n",
      "date             21420 non-null datetime64[ns]\n",
      "price            21420 non-null float64\n",
      "bedrooms         21420 non-null object\n",
      "bathrooms        21420 non-null object\n",
      "sqft_living      21420 non-null int64\n",
      "sqft_lot         21420 non-null int64\n",
      "floors           21420 non-null object\n",
      "waterfront       21420 non-null object\n",
      "view             21420 non-null object\n",
      "condition        21420 non-null object\n",
      "grade            21420 non-null object\n",
      "sqft_above       21420 non-null int64\n",
      "sqft_basement    21420 non-null float64\n",
      "yr_built         21420 non-null datetime64[ns]\n",
      "yr_renovated     17607 non-null datetime64[ns]\n",
      "zipcode          21420 non-null object\n",
      "lat              21420 non-null float64\n",
      "long             21420 non-null float64\n",
      "sqft_living15    21420 non-null int64\n",
      "sqft_lot15       21420 non-null int64\n",
      "dtypes: datetime64[ns](3), float64(4), int64(5), object(9)\n",
      "memory usage: 3.6+ MB\n"
     ]
    }
   ],
   "source": [
    "## Cleaning the data\n",
    "\n",
    "# waterfront, although incomplete, hasn't been altered due to the complexity of the variable assignment\n",
    "\n",
    "# sqft_basement: 454 '?' values changed to zero.\n",
    "properties_data_altered = {}\n",
    "for i in range(0,len(kc['id'])-1):\n",
    "        if kc['sqft_basement'][i] == '?':\n",
    "            kc['sqft_basement'][i] = 0\n",
    "        properties_data_altered[kc['id'][i]] = 'sqft_basement'\n",
    "\n",
    "# 33 bedrooms house? It is a typo (the 11 bedrooms one checks out though)\n",
    "properties_data_altered[kc[kc['bedrooms']==33].iloc[0]['id']] = '33_bedrooms'\n",
    "kc['bedrooms'] = kc['bedrooms'].replace(33,3)\n",
    "\n",
    "# view, 63 empties changed to zeros\n",
    "for i in kc[kc['view'].isnull()]['id']:\n",
    "    properties_data_altered[i] = 'views'\n",
    "kc['view'] = kc['view'].fillna(0)\n",
    "\n",
    "# yr_renovated, 16900 zeros changed to NaN\n",
    "for i in kc[kc['yr_renovated']=='0.0']['id']:\n",
    "    properties_data_altered[i] = 'yr_renovated'\n",
    "kc['yr_renovated'] = kc['yr_renovated'].replace('0.0', np.nan)\n",
    "\n",
    "# sorting out data types:\n",
    "kc['id'] = kc['id'].astype(str)\n",
    "kc['bathrooms'] = kc['bathrooms'].astype(str)\n",
    "kc['bedrooms'] = kc['bedrooms'].astype(str)\n",
    "kc['condition'] = kc['condition'].astype(str)\n",
    "kc['floors'] = kc['floors'].astype(str)\n",
    "kc['grade'] = kc['grade'].astype(str)\n",
    "kc['sqft_basement'] = kc['sqft_basement'].astype(float)\n",
    "kc['view'] = kc['view'].astype(str)\n",
    "kc['waterfront'] = kc['waterfront'].astype(str)\n",
    "kc['yr_renovated'] = pd.to_datetime(kc['yr_renovated'])\n",
    "kc['zipcode'] = kc['zipcode'].astype(str)\n",
    "\n",
    "# split dataframes: properties sold more than once in the timeframe vs all properties without duplicates\n",
    "kc_duplicated = kc[kc.duplicated(['id'],keep=False)]\n",
    "kc = kc.sort_values('date').drop_duplicates('id',keep='last')"
   ]
  },
  {
   "cell_type": "markdown",
   "metadata": {},
   "source": [
    "## Things to look at:\n",
    "* split per zipcodes\n",
    "* check the price growth over time to figure out the up and coming areas\n",
    "* ID zipcodes with waterfront and see how it affects average price\n",
    "* Where can we make money?/What is the most underrated property type? \n",
    "* Plot the schools and trasnports (although public transport in the US might not be "
   ]
  }
 ],
 "metadata": {
  "kernelspec": {
   "display_name": "Python 3",
   "language": "python",
   "name": "python3"
  },
  "language_info": {
   "codemirror_mode": {
    "name": "ipython",
    "version": 3
   },
   "file_extension": ".py",
   "mimetype": "text/x-python",
   "name": "python",
   "nbconvert_exporter": "python",
   "pygments_lexer": "ipython3",
   "version": "3.8.1"
  }
 },
 "nbformat": 4,
 "nbformat_minor": 2
}
