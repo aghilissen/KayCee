{
 "cells": [
  {
   "cell_type": "code",
   "execution_count": null,
   "metadata": {},
   "outputs": [],
   "source": [
    "import numpy as np\n",
    "import pandas as pd\n",
    "import matplotlib.pyplot as plt\n",
    "import seaborn as sns\n",
    "# import warnings\n",
    "# warnings.filterwarnings('ignore')\n",
    "%matplotlib inline\n",
    "#pd.set_option('display.float_format', lambda x: '%.3f' % x)\n",
    "kc = pd.read_csv('./source/kc_house_data.csv', parse_dates=[1,14])"
   ]
  },
  {
   "cell_type": "code",
   "execution_count": null,
   "metadata": {
    "scrolled": true
   },
   "outputs": [],
   "source": [
    "## Cleaning the data\n",
    "\n",
    "# waterfront, although incomplete, hasn't been altered due to the complexity of the variable assignment\n",
    "\n",
    "# sqft_basement: 454 '?' values changed to zero.\n",
    "properties_data_altered = {}\n",
    "for i in range(0,len(kc['id'])-1):\n",
    "        if kc['sqft_basement'][i] == '?':\n",
    "            kc['sqft_basement'][i] = 0\n",
    "        properties_data_altered[kc['id'][i]] = 'sqft_basement'\n",
    "kc['sqft_basement'] = kc['sqft_basement'].astype(float)\n",
    "\n",
    "# 33 bedrooms house? It is a typo (the 11 bedrooms one checks out though)\n",
    "properties_data_altered[kc[kc['bedrooms']==33].iloc[0]['id']] = '33_bedrooms'\n",
    "kc['bedrooms'] = kc['bedrooms'].replace(33,3)\n",
    "\n",
    "# view, 63 empties changed to zeros\n",
    "for i in kc[kc['view'].isnull()]['id']:\n",
    "    properties_data_altered[i] = 'views'\n",
    "kc['view'] = kc['view'].fillna(0)\n",
    "\n",
    "# yr_renovated, 16900 zeros changed to NaN\n",
    "for i in kc[kc['yr_renovated']=='0.0']['id']:\n",
    "    properties_data_altered[i] = 'yr_renovated'\n",
    "kc['yr_renovated'] = kc['yr_renovated'].replace('0.0', np.nan)\n",
    "kc['yr_renovated'] = pd.to_datetime(kc['yr_renovated'])\n",
    "kc.info()"
   ]
  },
  {
   "cell_type": "markdown",
   "metadata": {},
   "source": [
    "## Some ID have 2 rows; they have been sold a couple of times within the time frame => insight on market growth"
   ]
  },
  {
   "cell_type": "code",
   "execution_count": null,
   "metadata": {
    "scrolled": true
   },
   "outputs": [],
   "source": [
    "# properties_sold_2_times = kc[kc['id'].duplicated(keep=False)]\n",
    "# properties_sold_2_times"
   ]
  },
  {
   "cell_type": "code",
   "execution_count": null,
   "metadata": {},
   "outputs": [],
   "source": [
    "# plt.scatter(properties_sold_2_times['price'],properties_sold_2_times['date'])\n",
    "# plt.show()"
   ]
  },
  {
   "cell_type": "code",
   "execution_count": null,
   "metadata": {},
   "outputs": [],
   "source": [
    "# price_change = {}\n",
    "# for id in properties_sold_2_times['id']:\n",
    "#      if id not in price_change:\n",
    "#             price_change[id] = properties_sold_2_times['price']\n",
    "#     else:\n",
    "#         price_change[id] = price_change[id] - properties_sold_2_times['price']\n",
    "# price_change"
   ]
  }
 ],
 "metadata": {
  "kernelspec": {
   "display_name": "Python 3",
   "language": "python",
   "name": "python3"
  },
  "language_info": {
   "codemirror_mode": {
    "name": "ipython",
    "version": 3
   },
   "file_extension": ".py",
   "mimetype": "text/x-python",
   "name": "python",
   "nbconvert_exporter": "python",
   "pygments_lexer": "ipython3",
   "version": "3.8.1"
  }
 },
 "nbformat": 4,
 "nbformat_minor": 2
}
