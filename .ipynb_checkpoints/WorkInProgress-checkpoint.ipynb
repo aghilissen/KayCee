{
 "cells": [
  {
   "cell_type": "code",
   "execution_count": null,
   "metadata": {},
   "outputs": [],
   "source": [
    "import numpy as np\n",
    "import pandas as pd\n",
    "import matplotlib.pyplot as plt\n",
    "import seaborn as sns\n",
    "# import warnings\n",
    "# warnings.filterwarnings('ignore')\n",
    "%matplotlib inline\n",
    "#pd.set_option('display.float_format', lambda x: '%.3f' % x)\n",
    "kc = pd.read_csv('./source/kc_house_data.csv', parse_dates=[1,14])"
   ]
  },
  {
   "cell_type": "code",
   "execution_count": null,
   "metadata": {
    "scrolled": true
   },
   "outputs": [],
   "source": [
    "## Cleaning the data\n",
    "\n",
    "# waterfront, although incomplete, hasn't been altered due to the complexity of the variable assignment\n",
    "\n",
    "# sqft_basement: 454 '?' values changed to zero.\n",
    "properties_data_altered = {}\n",
    "for i in range(0,len(kc['id'])-1):\n",
    "        if kc['sqft_basement'][i] == '?':\n",
    "            kc['sqft_basement'][i] = 0\n",
    "        properties_data_altered[kc['id'][i]] = 'sqft_basement'\n",
    "\n",
    "# 33 bedrooms house? It is a typo (the 11 bedrooms one checks out though)\n",
    "properties_data_altered[kc[kc['bedrooms']==33].iloc[0]['id']] = '33_bedrooms'\n",
    "kc['bedrooms'] = kc['bedrooms'].replace(33,3)\n",
    "\n",
    "# view, 63 empties changed to zeros\n",
    "for i in kc[kc['view'].isnull()]['id']:\n",
    "    properties_data_altered[i] = 'views'\n",
    "kc['view'] = kc['view'].fillna(0)\n",
    "\n",
    "# yr_renovated, 16900 zeros changed to NaN\n",
    "for i in kc[kc['yr_renovated']=='0.0']['id']:\n",
    "    properties_data_altered[i] = 'yr_renovated'\n",
    "kc['yr_renovated'] = kc['yr_renovated'].replace('0.0', np.nan)\n",
    "\n",
    "# sorting out data types:\n",
    "kc['id'] = kc['id'].astype(str)\n",
    "kc['bathrooms'] = kc['bathrooms'].astype(str)\n",
    "kc['bedrooms'] = kc['bedrooms'].astype(str)\n",
    "kc['condition'] = kc['condition'].astype(str)\n",
    "kc['floors'] = kc['floors'].astype(str)\n",
    "kc['grade'] = kc['grade'].astype(str)\n",
    "kc['sqft_basement'] = kc['sqft_basement'].astype(float)\n",
    "kc['view'] = kc['view'].astype(str)\n",
    "kc['waterfront'] = kc['waterfront'].astype(str)\n",
    "kc['yr_renovated'] = pd.to_datetime(kc['yr_renovated'])\n",
    "kc['zipcode'] = kc['zipcode'].astype(str)\n",
    "\n",
    "# split dataframes: properties sold more than once in the timeframe vs all properties without duplicates\n",
    "kc_duplicated = kc[kc.duplicated(['id'],keep=False)]\n",
    "kc = kc.sort_values('date').drop_duplicates('id',keep='last')"
   ]
  },
  {
   "cell_type": "markdown",
   "metadata": {},
   "source": [
    "## Things to look at:\n",
    "* split per zipcodes\n",
    "* check the price growth over time to figure out the up and coming areas\n",
    "* ID zipcodes with waterfront and see how it affects average price\n",
    "* Where can we make money?/What is the most underrated property type? \n",
    "* Plot the schools and trasnports (although public transport in the US might not be "
   ]
  }
 ],
 "metadata": {
  "kernelspec": {
   "display_name": "Python 3",
   "language": "python",
   "name": "python3"
  },
  "language_info": {
   "codemirror_mode": {
    "name": "ipython",
    "version": 3
   },
   "file_extension": ".py",
   "mimetype": "text/x-python",
   "name": "python",
   "nbconvert_exporter": "python",
   "pygments_lexer": "ipython3",
   "version": "3.8.1"
  }
 },
 "nbformat": 4,
 "nbformat_minor": 2
}
