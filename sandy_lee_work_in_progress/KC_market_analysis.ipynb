{
 "cells": [
  {
   "cell_type": "code",
   "execution_count": 9,
   "metadata": {},
   "outputs": [],
   "source": [
    "import pandas as pd\n",
    "import matplotlib.pyplot as plt\n",
    "%matplotlib inline\n",
    "import seaborn as sns "
   ]
  },
  {
   "cell_type": "code",
   "execution_count": 10,
   "metadata": {},
   "outputs": [],
   "source": [
    "import warnings\n",
    "warnings.filterwarnings('ignore') #ignore ipython notebook warnings"
   ]
  },
  {
   "cell_type": "code",
   "execution_count": 13,
   "metadata": {},
   "outputs": [],
   "source": [
    "dataset_loction = \"/Users/sandylee/Google Drive/Flatiron School/london-ds-010620/mod_1/student/group_project/KayCee_master/source/kc_house_data.csv\" #variable for dataset location"
   ]
  },
  {
   "cell_type": "code",
   "execution_count": 14,
   "metadata": {},
   "outputs": [],
   "source": [
    "data = pd.read_csv(dataset_loction) #import dataset"
   ]
  },
  {
   "cell_type": "code",
   "execution_count": 15,
   "metadata": {},
   "outputs": [],
   "source": [
    "duplicate_properties = data[data.duplicated(subset=\"id\",keep=False)] #extract properties sold more than once into a new dataframe"
   ]
  },
  {
   "cell_type": "code",
   "execution_count": 16,
   "metadata": {},
   "outputs": [],
   "source": [
    "duplicate_properties.insert(2,\"time_diff\",0) #add a column for time difference"
   ]
  },
  {
   "cell_type": "code",
   "execution_count": 17,
   "metadata": {},
   "outputs": [],
   "source": [
    "duplicate_properties.insert(4,\"price_diff\",0) #add a column for price difference"
   ]
  },
  {
   "cell_type": "code",
   "execution_count": 18,
   "metadata": {},
   "outputs": [],
   "source": [
    "duplicate_properties.insert(5,\"rate_of_price_increase\",0) #add a column for the rate of price increase"
   ]
  },
  {
   "cell_type": "code",
   "execution_count": 19,
   "metadata": {},
   "outputs": [],
   "source": [
    "duplicate_properties[\"date\"] = pd.to_datetime(duplicate_properties['date']) #convert date column to datetime objects from str"
   ]
  },
  {
   "cell_type": "code",
   "execution_count": 20,
   "metadata": {},
   "outputs": [],
   "source": [
    "duplicate_properties[\"time_diff\"] = pd.to_datetime(duplicate_properties['time_diff']) #convert time_diff column to datetime objects from str"
   ]
  },
  {
   "cell_type": "code",
   "execution_count": 21,
   "metadata": {},
   "outputs": [],
   "source": [
    "duplicate_properties = duplicate_properties.reset_index() #reset index "
   ]
  },
  {
   "cell_type": "code",
   "execution_count": 22,
   "metadata": {},
   "outputs": [],
   "source": [
    "duplicate_properties = duplicate_properties.drop(\"index\", 1) #drop duplicate index column"
   ]
  },
  {
   "cell_type": "code",
   "execution_count": 23,
   "metadata": {},
   "outputs": [],
   "source": [
    "duplicate_properties = duplicate_properties.drop(317) #drop one entry from a property sold 3 times that is causing issues"
   ]
  },
  {
   "cell_type": "code",
   "execution_count": 24,
   "metadata": {},
   "outputs": [],
   "source": [
    "duplicate_properties = duplicate_properties.reset_index() #reset index (again) "
   ]
  },
  {
   "cell_type": "code",
   "execution_count": 25,
   "metadata": {},
   "outputs": [],
   "source": [
    "duplicate_properties = duplicate_properties.drop(\"index\", 1) #drop duplicate index column (again)"
   ]
  },
  {
   "cell_type": "code",
   "execution_count": 26,
   "metadata": {},
   "outputs": [],
   "source": [
    "duplicate_properties['time_diff'] = duplicate_properties.groupby(['id'])['date'].shift(1) #run a lag operation on dates"
   ]
  },
  {
   "cell_type": "code",
   "execution_count": 27,
   "metadata": {},
   "outputs": [],
   "source": [
    "duplicate_properties['price_diff'] = duplicate_properties.groupby(['id'])['price'].shift(1) #run a lag operation on prices"
   ]
  },
  {
   "cell_type": "code",
   "execution_count": 28,
   "metadata": {},
   "outputs": [],
   "source": [
    "duplicate_properties[\"time_diff\"] = duplicate_properties['date'] - duplicate_properties['time_diff'] #get the date difference and add it to 'time_diff' column"
   ]
  },
  {
   "cell_type": "code",
   "execution_count": 29,
   "metadata": {},
   "outputs": [],
   "source": [
    "duplicate_properties[\"price_diff\"] = duplicate_properties['price'] - duplicate_properties['price_diff'] #get the price difference and add it to 'price_diff' column"
   ]
  },
  {
   "cell_type": "code",
   "execution_count": 30,
   "metadata": {},
   "outputs": [],
   "source": [
    "analysis_df = duplicate_properties.copy() #make a new dataframe for analysis"
   ]
  },
  {
   "cell_type": "code",
   "execution_count": 31,
   "metadata": {},
   "outputs": [],
   "source": [
    "for row in range(0,len(analysis_df),2):\n",
    "     analysis_df.drop(index=row,inplace=True) #remove redundant NaN rows "
   ]
  },
  {
   "cell_type": "code",
   "execution_count": 32,
   "metadata": {},
   "outputs": [],
   "source": [
    "analysis_df.insert(3,\"time_diff_seconds\",0) #add a column for time difference as an int"
   ]
  },
  {
   "cell_type": "code",
   "execution_count": 33,
   "metadata": {},
   "outputs": [],
   "source": [
    "analysis_df[\"time_diff_seconds\"] = pd.to_numeric(analysis_df[\"time_diff\"])/1000000000 #convert timedelta obeject to seconds (stored as ns by default)"
   ]
  },
  {
   "cell_type": "code",
   "execution_count": 34,
   "metadata": {},
   "outputs": [],
   "source": [
    "analysis_df[\"rate_of_price_increase\"] = analysis_df[\"price_diff\"]/(analysis_df[\"time_diff_seconds\"]/86400) #calculate rate of increase in prices"
   ]
  },
  {
   "cell_type": "code",
   "execution_count": 35,
   "metadata": {},
   "outputs": [],
   "source": [
    "hot_zip_codes = analysis_df.groupby([\"zipcode\"])[\"rate_of_price_increase\"].mean() #create a Pandas series of rate of the mean rate of price inrease grouped by zip code"
   ]
  },
  {
   "cell_type": "code",
   "execution_count": 36,
   "metadata": {},
   "outputs": [],
   "source": [
    "hot_zip_codes = analysis_df.groupby([\"zipcode\"]).mean() #group everything by zipcode and take the mean"
   ]
  },
  {
   "cell_type": "code",
   "execution_count": 46,
   "metadata": {},
   "outputs": [],
   "source": [
    "hot_zip_codes_count = analysis_df.groupby([\"zipcode\"]).count() #group everything by zipcode and run a count "
   ]
  },
  {
   "cell_type": "code",
   "execution_count": 37,
   "metadata": {},
   "outputs": [],
   "source": [
    "hot_zip_codes.drop(columns = [\"id\", \"time_diff_seconds\", \"price\", \"price_diff\", \"bedrooms\", \"bathrooms\"],inplace = True) #remove extranous columns"
   ]
  },
  {
   "cell_type": "code",
   "execution_count": 38,
   "metadata": {},
   "outputs": [],
   "source": [
    "hot_zip_codes.drop(columns = [\"sqft_living\", \"sqft_lot\", \"floors\", \"waterfront\", \"view\", \"condition\"],inplace = True) #remove extranous columns"
   ]
  },
  {
   "cell_type": "code",
   "execution_count": 39,
   "metadata": {},
   "outputs": [],
   "source": [
    "hot_zip_codes.drop(columns = [\"grade\", \"sqft_above\", \"yr_built\", \"yr_renovated\", \"sqft_living15\", \"sqft_lot15\"],inplace = True) #remove extranous columns"
   ]
  },
  {
   "cell_type": "code",
   "execution_count": 40,
   "metadata": {},
   "outputs": [],
   "source": [
    "hot_zip_codes.sort_values(ascending = False, inplace = True, by=\"rate_of_price_increase\")  #sort hot zip codes in descending order"
   ]
  },
  {
   "cell_type": "code",
   "execution_count": 41,
   "metadata": {},
   "outputs": [],
   "source": [
    "hot_zip_codes.reset_index(level=0, inplace=True)"
   ]
  },
  {
   "cell_type": "code",
   "execution_count": 42,
   "metadata": {},
   "outputs": [],
   "source": [
    "hot_zip_codes = hot_zip_codes.sort_values(['rate_of_price_increase']).reset_index(drop=True)"
   ]
  },
  {
   "cell_type": "code",
   "execution_count": 43,
   "metadata": {},
   "outputs": [],
   "source": [
    "y_axis = [98034, \n",
    "          98155, \n",
    "          98126, \n",
    "          98117, \n",
    "          98011, \n",
    "          98177, \n",
    "          98148, \n",
    "          98007, \n",
    "          98199, \n",
    "          98118, \n",
    "          98042, \n",
    "          98074, \n",
    "          98115, \n",
    "          98032, \n",
    "          98133, \n",
    "          98116, \n",
    "          98052, \n",
    "          98028, \n",
    "          98055, \n",
    "          98103, \n",
    "          98122, \n",
    "          98106, \n",
    "          98072, \n",
    "          98059, \n",
    "          98053, \n",
    "          98003, \n",
    "          98031, \n",
    "          98004, \n",
    "          98144, \n",
    "          98198, \n",
    "          98125, \n",
    "          98030, \n",
    "          98039, \n",
    "          98178, \n",
    "          98045, \n",
    "          98001, \n",
    "          98056, \n",
    "          98146, \n",
    "          98107, \n",
    "          98166, \n",
    "          98070, \n",
    "          98168, \n",
    "          98006, \n",
    "          98024, \n",
    "          98038, \n",
    "          98023, \n",
    "          98188, \n",
    "          98058, \n",
    "          98112, \n",
    "          98002, \n",
    "          98108, \n",
    "          98065, \n",
    "          98075, \n",
    "          98077, \n",
    "          98014, \n",
    "          98029, \n",
    "          98027, \n",
    "          98033, \n",
    "          98010]"
   ]
  },
  {
   "cell_type": "code",
   "execution_count": 44,
   "metadata": {},
   "outputs": [
    {
     "data": {
      "image/png": "[encoded data removed]",
      "text/plain": [
       "<Figure size 1440x720 with 1 Axes>"
      ]
     },
     "metadata": {
      "needs_background": "light"
     },
     "output_type": "display_data"
    }
   ],
   "source": [
    "plt.figure(figsize=(20,10))\n",
    "chart = sns.barplot(x = \"zipcode\", \n",
    "                    y = \"rate_of_price_increase\", \n",
    "                    data = hot_zip_codes, \n",
    "                    order = y_axis)\n",
    "\n",
    "chart.set_xticklabels(chart.get_xticklabels(), \n",
    "                      rotation=45, \n",
    "                      horizontalalignment='right',\n",
    "                      fontweight='light',\n",
    "                      fontsize='large');\n"
   ]
  },
  {
   "cell_type": "code",
   "execution_count": 186,
   "metadata": {},
   "outputs": [],
   "source": [
    "seasonality_df = data.copy() #copy main data"
   ]
  },
  {
   "cell_type": "code",
   "execution_count": 187,
   "metadata": {},
   "outputs": [],
   "source": [
    "seasonality_df.insert(3,\"month\",0) #add a column for time month"
   ]
  },
  {
   "cell_type": "code",
   "execution_count": 188,
   "metadata": {},
   "outputs": [],
   "source": [
    "seasonality_df.insert(4,\"year\",0) #add a column for time year"
   ]
  },
  {
   "cell_type": "code",
   "execution_count": 189,
   "metadata": {},
   "outputs": [],
   "source": [
    "seasonality_df[\"date\"] = pd.to_datetime(seasonality_df['date']) #convert date column to datetime objects from object"
   ]
  },
  {
   "cell_type": "code",
   "execution_count": 190,
   "metadata": {},
   "outputs": [],
   "source": [
    "seasonality_df[\"month\"] = seasonality_df[\"date\"].dt.month #extract month "
   ]
  },
  {
   "cell_type": "code",
   "execution_count": 191,
   "metadata": {},
   "outputs": [],
   "source": [
    "seasonality_df[\"year\"] = seasonality_df[\"date\"].dt.year #extract year"
   ]
  },
  {
   "cell_type": "code",
   "execution_count": 192,
   "metadata": {},
   "outputs": [],
   "source": [
    "per_month = seasonality_df.set_index('date').groupby(pd.Grouper(freq='M'))['id'].count() #create a Pandas series with the values we need"
   ]
  },
  {
   "cell_type": "code",
   "execution_count": 198,
   "metadata": {},
   "outputs": [
    {
     "data": {
      "image/png": "[encoded data removed]",
      "text/plain": [
       "<Figure size 1440x720 with 1 Axes>"
      ]
     },
     "metadata": {
      "needs_background": "light"
     },
     "output_type": "display_data"
    }
   ],
   "source": [
    "plt.figure(figsize=(20,10)) \n",
    "chart = sns.lineplot(x = per_month.index, \n",
    "                     y = per_month.values,\n",
    "                     palette=\"Set1\")\n",
    "\n"
   ]
  },
  {
   "cell_type": "code",
   "execution_count": null,
   "metadata": {},
   "outputs": [],
   "source": []
  }
 ],
 "metadata": {
  "kernelspec": {
   "display_name": "Python [conda env:learn-env] *",
   "language": "python",
   "name": "conda-env-learn-env-py"
  },
  "language_info": {
   "codemirror_mode": {
    "name": "ipython",
    "version": 3
   },
   "file_extension": ".py",
   "mimetype": "text/x-python",
   "name": "python",
   "nbconvert_exporter": "python",
   "pygments_lexer": "ipython3",
   "version": "3.6.9"
  }
 },
 "nbformat": 4,
 "nbformat_minor": 4
}
