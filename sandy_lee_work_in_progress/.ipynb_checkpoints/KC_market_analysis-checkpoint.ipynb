{
 "cells": [
  {
   "cell_type": "code",
   "execution_count": 107,
   "metadata": {},
   "outputs": [],
   "source": [
    "import pandas as pd\n",
    "import matplotlib.pyplot as plt\n",
    "%matplotlib inline\n",
    "import seaborn as sns "
   ]
  },
  {
   "cell_type": "code",
   "execution_count": 10,
   "metadata": {},
   "outputs": [],
   "source": [
    "import warnings\n",
    "warnings.filterwarnings('ignore') #ignore ipython notebook warnings"
   ]
  },
  {
   "cell_type": "code",
   "execution_count": 11,
   "metadata": {},
   "outputs": [],
   "source": [
    "dataset_loction = \"/Users/sandylee/Google Drive/Flatiron School/london-ds-010620/mod_1/student/group_project/KayCee/source/kc_house_data.csv\" #variable for dataset location"
   ]
  },
  {
   "cell_type": "code",
   "execution_count": 13,
   "metadata": {},
   "outputs": [],
   "source": [
    "data = pd.read_csv(dataset_loction) #import dataset"
   ]
  },
  {
   "cell_type": "code",
   "execution_count": 14,
   "metadata": {},
   "outputs": [],
   "source": [
    "duplicate_properties = data[data.duplicated(subset=\"id\",keep=False)] #extract properties sold more than once into a new dataframe"
   ]
  },
  {
   "cell_type": "code",
   "execution_count": 15,
   "metadata": {},
   "outputs": [],
   "source": [
    "duplicate_properties.insert(2,\"time_diff\",0) #add a column for time difference"
   ]
  },
  {
   "cell_type": "code",
   "execution_count": 16,
   "metadata": {},
   "outputs": [],
   "source": [
    "duplicate_properties.insert(4,\"price_diff\",0) #add a column for price difference"
   ]
  },
  {
   "cell_type": "code",
   "execution_count": 17,
   "metadata": {},
   "outputs": [],
   "source": [
    "duplicate_properties.insert(5,\"rate_of_price_increase\",0) #add a column for the rate of price increase"
   ]
  },
  {
   "cell_type": "code",
   "execution_count": 18,
   "metadata": {},
   "outputs": [],
   "source": [
    "duplicate_properties[\"date\"] = pd.to_datetime(duplicate_properties['date']) #convert date column to datetime objects from str"
   ]
  },
  {
   "cell_type": "code",
   "execution_count": 19,
   "metadata": {},
   "outputs": [],
   "source": [
    "duplicate_properties[\"time_diff\"] = pd.to_datetime(duplicate_properties['time_diff']) #convert time_diff column to datetime objects from str"
   ]
  },
  {
   "cell_type": "code",
   "execution_count": 20,
   "metadata": {},
   "outputs": [],
   "source": [
    "duplicate_properties = duplicate_properties.reset_index() #reset index "
   ]
  },
  {
   "cell_type": "code",
   "execution_count": 21,
   "metadata": {},
   "outputs": [],
   "source": [
    "duplicate_properties = duplicate_properties.drop(\"index\", 1) #drop duplicate index column"
   ]
  },
  {
   "cell_type": "code",
   "execution_count": 22,
   "metadata": {},
   "outputs": [],
   "source": [
    "duplicate_properties = duplicate_properties.drop(317) #drop one entry from a property sold 3 times that is causing issues"
   ]
  },
  {
   "cell_type": "code",
   "execution_count": 23,
   "metadata": {},
   "outputs": [],
   "source": [
    "duplicate_properties = duplicate_properties.reset_index() #reset index (again) "
   ]
  },
  {
   "cell_type": "code",
   "execution_count": 24,
   "metadata": {},
   "outputs": [],
   "source": [
    "duplicate_properties = duplicate_properties.drop(\"index\", 1) #drop duplicate index column (again)"
   ]
  },
  {
   "cell_type": "code",
   "execution_count": 25,
   "metadata": {},
   "outputs": [],
   "source": [
    "duplicate_properties['time_diff'] = duplicate_properties.groupby(['id'])['date'].shift(1) #run a lag operation on dates"
   ]
  },
  {
   "cell_type": "code",
   "execution_count": 26,
   "metadata": {},
   "outputs": [],
   "source": [
    "duplicate_properties['price_diff'] = duplicate_properties.groupby(['id'])['price'].shift(1) #run a lag operation on prices"
   ]
  },
  {
   "cell_type": "code",
   "execution_count": 27,
   "metadata": {},
   "outputs": [],
   "source": [
    "duplicate_properties[\"time_diff\"] = duplicate_properties['date'] - duplicate_properties['time_diff'] #get the date difference and add it to 'time_diff' column"
   ]
  },
  {
   "cell_type": "code",
   "execution_count": 28,
   "metadata": {},
   "outputs": [],
   "source": [
    "duplicate_properties[\"price_diff\"] = duplicate_properties['price'] - duplicate_properties['price_diff'] #get the price difference and add it to 'price_diff' column"
   ]
  },
  {
   "cell_type": "code",
   "execution_count": 29,
   "metadata": {},
   "outputs": [],
   "source": [
    "analysis_df = duplicate_properties.copy() #make a new dataframe for analysis"
   ]
  },
  {
   "cell_type": "code",
   "execution_count": 30,
   "metadata": {},
   "outputs": [],
   "source": [
    "for row in range(0,len(analysis_df),2):\n",
    "     analysis_df.drop(index=row,inplace=True) #remove redundant NaN rows "
   ]
  },
  {
   "cell_type": "code",
   "execution_count": 31,
   "metadata": {},
   "outputs": [],
   "source": [
    "analysis_df.insert(3,\"time_diff_seconds\",0) #add a column for time difference as an int"
   ]
  },
  {
   "cell_type": "code",
   "execution_count": 32,
   "metadata": {},
   "outputs": [],
   "source": [
    "analysis_df[\"time_diff_seconds\"] = pd.to_numeric(analysis_df[\"time_diff\"])/1000000000 #convert timedelta obeject to seconds (stored as ns by default)"
   ]
  },
  {
   "cell_type": "code",
   "execution_count": 33,
   "metadata": {},
   "outputs": [],
   "source": [
    "analysis_df[\"rate_of_price_increase\"] = analysis_df[\"price_diff\"]/(analysis_df[\"time_diff_seconds\"]/86400) #calculate rate of increase in prices"
   ]
  },
  {
   "cell_type": "code",
   "execution_count": 34,
   "metadata": {},
   "outputs": [],
   "source": [
    "hot_zip_codes = analysis_df.groupby([\"zipcode\"])[\"rate_of_price_increase\"].mean() #create a Pandas series of rate of the mean rate of price inrease grouped by zip code"
   ]
  },
  {
   "cell_type": "code",
   "execution_count": 35,
   "metadata": {},
   "outputs": [],
   "source": [
    "hot_zip_codes = analysis_df.groupby([\"zipcode\"]).mean() #group everything by zipcode and take the mean"
   ]
  },
  {
   "cell_type": "code",
   "execution_count": 36,
   "metadata": {},
   "outputs": [],
   "source": [
    "hot_zip_codes.drop(columns = [\"id\", \"time_diff_seconds\", \"price\", \"price_diff\", \"bedrooms\", \"bathrooms\"],inplace = True) #remove extranous columns"
   ]
  },
  {
   "cell_type": "code",
   "execution_count": 37,
   "metadata": {},
   "outputs": [],
   "source": [
    "hot_zip_codes.drop(columns = [\"sqft_living\", \"sqft_lot\", \"floors\", \"waterfront\", \"view\", \"condition\"],inplace = True) #remove extranous columns"
   ]
  },
  {
   "cell_type": "code",
   "execution_count": 38,
   "metadata": {},
   "outputs": [],
   "source": [
    "hot_zip_codes.drop(columns = [\"grade\", \"sqft_above\", \"yr_built\", \"yr_renovated\", \"sqft_living15\", \"sqft_lot15\"],inplace = True) #remove extranous columns"
   ]
  },
  {
   "cell_type": "code",
   "execution_count": 66,
   "metadata": {},
   "outputs": [],
   "source": [
    "hot_zip_codes.sort_values(ascending = False, inplace = True, by=\"rate_of_price_increase\")  #sort hot zip codes in descending order"
   ]
  },
  {
   "cell_type": "code",
   "execution_count": 68,
   "metadata": {},
   "outputs": [],
   "source": [
    "hot_zip_codes.reset_index(level=0, inplace=True)"
   ]
  },
  {
   "cell_type": "code",
   "execution_count": 88,
   "metadata": {},
   "outputs": [],
   "source": [
    "hot_zip_codes = hot_zip_codes.sort_values(['rate_of_price_increase']).reset_index(drop=True)"
   ]
  },
  {
   "cell_type": "code",
   "execution_count": 91,
   "metadata": {},
   "outputs": [],
   "source": [
    "y_axis = [98034, \n",
    "          98155, \n",
    "          98126, \n",
    "          98117, \n",
    "          98011, \n",
    "          98177, \n",
    "          98148, \n",
    "          98007, \n",
    "          98199, \n",
    "          98118, \n",
    "          98042, \n",
    "          98074, \n",
    "          98115, \n",
    "          98032, \n",
    "          98133, \n",
    "          98116, \n",
    "          98052, \n",
    "          98028, \n",
    "          98055, \n",
    "          98103, \n",
    "          98122, \n",
    "          98106, \n",
    "          98072, \n",
    "          98059, \n",
    "          98053, \n",
    "          98003, \n",
    "          98031, \n",
    "          98004, \n",
    "          98144, \n",
    "          98198, \n",
    "          98125, \n",
    "          98030, \n",
    "          98039, \n",
    "          98178, \n",
    "          98045, \n",
    "          98001, \n",
    "          98056, \n",
    "          98146, \n",
    "          98107, \n",
    "          98166, \n",
    "          98070, \n",
    "          98168, \n",
    "          98006, \n",
    "          98024, \n",
    "          98038, \n",
    "          98023, \n",
    "          98188, \n",
    "          98058, \n",
    "          98112, \n",
    "          98002, \n",
    "          98108, \n",
    "          98065, \n",
    "          98075, \n",
    "          98077, \n",
    "          98014, \n",
    "          98029, \n",
    "          98027, \n",
    "          98033, \n",
    "          98010]"
   ]
  },
  {
   "cell_type": "code",
   "execution_count": 142,
   "metadata": {},
   "outputs": [
    {
     "data": {
      "image/png": "[encoded data removed]",
      "text/plain": [
       "<Figure size 1440x720 with 1 Axes>"
      ]
     },
     "metadata": {
      "needs_background": "light"
     },
     "output_type": "display_data"
    }
   ],
   "source": [
    "plt.figure(figsize=(20,10))\n",
    "chart = sns.barplot(x = \"zipcode\", \n",
    "                    y = \"rate_of_price_increase\", \n",
    "                    data = hot_zip_codes, \n",
    "                    order = y_axis, \n",
    "                    palette=\"Set1\")\n",
    "\n",
    "chart.set_xticklabels(chart.get_xticklabels(), \n",
    "                      rotation=45, \n",
    "                      horizontalalignment='right',\n",
    "                      fontweight='light',\n",
    "                      fontsize='large');\n"
   ]
  },
  {
   "cell_type": "code",
   "execution_count": 144,
   "metadata": {},
   "outputs": [
    {
     "data": {
      "text/html": [
       "<div>\n",
       "<style scoped>\n",
       "    .dataframe tbody tr th:only-of-type {\n",
       "        vertical-align: middle;\n",
       "    }\n",
       "\n",
       "    .dataframe tbody tr th {\n",
       "        vertical-align: top;\n",
       "    }\n",
       "\n",
       "    .dataframe thead th {\n",
       "        text-align: right;\n",
       "    }\n",
       "</style>\n",
       "<table border=\"1\" class=\"dataframe\">\n",
       "  <thead>\n",
       "    <tr style=\"text-align: right;\">\n",
       "      <th></th>\n",
       "      <th>id</th>\n",
       "      <th>date</th>\n",
       "      <th>time_diff</th>\n",
       "      <th>time_diff_seconds</th>\n",
       "      <th>price</th>\n",
       "      <th>price_diff</th>\n",
       "      <th>rate_of_price_increase</th>\n",
       "      <th>bedrooms</th>\n",
       "      <th>bathrooms</th>\n",
       "      <th>sqft_living</th>\n",
       "      <th>...</th>\n",
       "      <th>grade</th>\n",
       "      <th>sqft_above</th>\n",
       "      <th>sqft_basement</th>\n",
       "      <th>yr_built</th>\n",
       "      <th>yr_renovated</th>\n",
       "      <th>zipcode</th>\n",
       "      <th>lat</th>\n",
       "      <th>long</th>\n",
       "      <th>sqft_living15</th>\n",
       "      <th>sqft_lot15</th>\n",
       "    </tr>\n",
       "  </thead>\n",
       "  <tbody>\n",
       "    <tr>\n",
       "      <th>1</th>\n",
       "      <td>6021501535</td>\n",
       "      <td>2014-12-23</td>\n",
       "      <td>151 days</td>\n",
       "      <td>13046400.0</td>\n",
       "      <td>700000.0</td>\n",
       "      <td>270000.0</td>\n",
       "      <td>1788.079470</td>\n",
       "      <td>3</td>\n",
       "      <td>1.50</td>\n",
       "      <td>1580</td>\n",
       "      <td>...</td>\n",
       "      <td>8</td>\n",
       "      <td>1290</td>\n",
       "      <td>290.0</td>\n",
       "      <td>1939</td>\n",
       "      <td>0.0</td>\n",
       "      <td>98117</td>\n",
       "      <td>47.6870</td>\n",
       "      <td>-122.386</td>\n",
       "      <td>1570</td>\n",
       "      <td>4500</td>\n",
       "    </tr>\n",
       "    <tr>\n",
       "      <th>3</th>\n",
       "      <td>4139480200</td>\n",
       "      <td>2014-12-09</td>\n",
       "      <td>174 days</td>\n",
       "      <td>15033600.0</td>\n",
       "      <td>1400000.0</td>\n",
       "      <td>20000.0</td>\n",
       "      <td>114.942529</td>\n",
       "      <td>4</td>\n",
       "      <td>3.25</td>\n",
       "      <td>4290</td>\n",
       "      <td>...</td>\n",
       "      <td>11</td>\n",
       "      <td>2690</td>\n",
       "      <td>1600.0</td>\n",
       "      <td>1997</td>\n",
       "      <td>0.0</td>\n",
       "      <td>98006</td>\n",
       "      <td>47.5503</td>\n",
       "      <td>-122.102</td>\n",
       "      <td>3860</td>\n",
       "      <td>11244</td>\n",
       "    </tr>\n",
       "    <tr>\n",
       "      <th>5</th>\n",
       "      <td>7520000520</td>\n",
       "      <td>2015-03-11</td>\n",
       "      <td>187 days</td>\n",
       "      <td>16156800.0</td>\n",
       "      <td>240500.0</td>\n",
       "      <td>8500.0</td>\n",
       "      <td>45.454545</td>\n",
       "      <td>2</td>\n",
       "      <td>1.00</td>\n",
       "      <td>1240</td>\n",
       "      <td>...</td>\n",
       "      <td>6</td>\n",
       "      <td>960</td>\n",
       "      <td>280.0</td>\n",
       "      <td>1922</td>\n",
       "      <td>1984.0</td>\n",
       "      <td>98146</td>\n",
       "      <td>47.4957</td>\n",
       "      <td>-122.352</td>\n",
       "      <td>1820</td>\n",
       "      <td>7460</td>\n",
       "    </tr>\n",
       "    <tr>\n",
       "      <th>7</th>\n",
       "      <td>3969300030</td>\n",
       "      <td>2014-12-29</td>\n",
       "      <td>159 days</td>\n",
       "      <td>13737600.0</td>\n",
       "      <td>239900.0</td>\n",
       "      <td>74900.0</td>\n",
       "      <td>471.069182</td>\n",
       "      <td>4</td>\n",
       "      <td>1.00</td>\n",
       "      <td>1000</td>\n",
       "      <td>...</td>\n",
       "      <td>6</td>\n",
       "      <td>1000</td>\n",
       "      <td>0.0</td>\n",
       "      <td>1943</td>\n",
       "      <td>NaN</td>\n",
       "      <td>98178</td>\n",
       "      <td>47.4897</td>\n",
       "      <td>-122.240</td>\n",
       "      <td>1020</td>\n",
       "      <td>7138</td>\n",
       "    </tr>\n",
       "    <tr>\n",
       "      <th>9</th>\n",
       "      <td>2231500030</td>\n",
       "      <td>2015-03-24</td>\n",
       "      <td>174 days</td>\n",
       "      <td>15033600.0</td>\n",
       "      <td>530000.0</td>\n",
       "      <td>215000.0</td>\n",
       "      <td>1235.632184</td>\n",
       "      <td>4</td>\n",
       "      <td>2.25</td>\n",
       "      <td>2180</td>\n",
       "      <td>...</td>\n",
       "      <td>7</td>\n",
       "      <td>1100</td>\n",
       "      <td>1080.0</td>\n",
       "      <td>1954</td>\n",
       "      <td>0.0</td>\n",
       "      <td>98133</td>\n",
       "      <td>47.7711</td>\n",
       "      <td>-122.341</td>\n",
       "      <td>1810</td>\n",
       "      <td>6929</td>\n",
       "    </tr>\n",
       "    <tr>\n",
       "      <th>...</th>\n",
       "      <td>...</td>\n",
       "      <td>...</td>\n",
       "      <td>...</td>\n",
       "      <td>...</td>\n",
       "      <td>...</td>\n",
       "      <td>...</td>\n",
       "      <td>...</td>\n",
       "      <td>...</td>\n",
       "      <td>...</td>\n",
       "      <td>...</td>\n",
       "      <td>...</td>\n",
       "      <td>...</td>\n",
       "      <td>...</td>\n",
       "      <td>...</td>\n",
       "      <td>...</td>\n",
       "      <td>...</td>\n",
       "      <td>...</td>\n",
       "      <td>...</td>\n",
       "      <td>...</td>\n",
       "      <td>...</td>\n",
       "      <td>...</td>\n",
       "    </tr>\n",
       "    <tr>\n",
       "      <th>343</th>\n",
       "      <td>7853400250</td>\n",
       "      <td>2015-02-19</td>\n",
       "      <td>260 days</td>\n",
       "      <td>22464000.0</td>\n",
       "      <td>645000.0</td>\n",
       "      <td>35000.0</td>\n",
       "      <td>134.615385</td>\n",
       "      <td>4</td>\n",
       "      <td>3.50</td>\n",
       "      <td>2910</td>\n",
       "      <td>...</td>\n",
       "      <td>9</td>\n",
       "      <td>2910</td>\n",
       "      <td>0.0</td>\n",
       "      <td>2012</td>\n",
       "      <td>0.0</td>\n",
       "      <td>98065</td>\n",
       "      <td>47.5168</td>\n",
       "      <td>-121.883</td>\n",
       "      <td>2910</td>\n",
       "      <td>5260</td>\n",
       "    </tr>\n",
       "    <tr>\n",
       "      <th>345</th>\n",
       "      <td>2724049222</td>\n",
       "      <td>2014-12-01</td>\n",
       "      <td>121 days</td>\n",
       "      <td>10454400.0</td>\n",
       "      <td>220000.0</td>\n",
       "      <td>56200.0</td>\n",
       "      <td>464.462810</td>\n",
       "      <td>2</td>\n",
       "      <td>2.50</td>\n",
       "      <td>1000</td>\n",
       "      <td>...</td>\n",
       "      <td>7</td>\n",
       "      <td>990</td>\n",
       "      <td>10.0</td>\n",
       "      <td>2004</td>\n",
       "      <td>0.0</td>\n",
       "      <td>98118</td>\n",
       "      <td>47.5419</td>\n",
       "      <td>-122.271</td>\n",
       "      <td>1330</td>\n",
       "      <td>1466</td>\n",
       "    </tr>\n",
       "    <tr>\n",
       "      <th>347</th>\n",
       "      <td>8564860270</td>\n",
       "      <td>2015-03-30</td>\n",
       "      <td>265 days</td>\n",
       "      <td>22896000.0</td>\n",
       "      <td>502000.0</td>\n",
       "      <td>52010.0</td>\n",
       "      <td>196.264151</td>\n",
       "      <td>4</td>\n",
       "      <td>2.50</td>\n",
       "      <td>2680</td>\n",
       "      <td>...</td>\n",
       "      <td>8</td>\n",
       "      <td>2680</td>\n",
       "      <td>0.0</td>\n",
       "      <td>2013</td>\n",
       "      <td>0.0</td>\n",
       "      <td>98045</td>\n",
       "      <td>47.4759</td>\n",
       "      <td>-121.734</td>\n",
       "      <td>2680</td>\n",
       "      <td>5992</td>\n",
       "    </tr>\n",
       "    <tr>\n",
       "      <th>349</th>\n",
       "      <td>6300000226</td>\n",
       "      <td>2015-05-04</td>\n",
       "      <td>312 days</td>\n",
       "      <td>26956800.0</td>\n",
       "      <td>380000.0</td>\n",
       "      <td>140000.0</td>\n",
       "      <td>448.717949</td>\n",
       "      <td>4</td>\n",
       "      <td>1.00</td>\n",
       "      <td>1200</td>\n",
       "      <td>...</td>\n",
       "      <td>7</td>\n",
       "      <td>1200</td>\n",
       "      <td>0.0</td>\n",
       "      <td>1933</td>\n",
       "      <td>0.0</td>\n",
       "      <td>98133</td>\n",
       "      <td>47.7076</td>\n",
       "      <td>-122.342</td>\n",
       "      <td>1130</td>\n",
       "      <td>1598</td>\n",
       "    </tr>\n",
       "    <tr>\n",
       "      <th>351</th>\n",
       "      <td>7853420110</td>\n",
       "      <td>2015-05-04</td>\n",
       "      <td>213 days</td>\n",
       "      <td>18403200.0</td>\n",
       "      <td>625000.0</td>\n",
       "      <td>30134.0</td>\n",
       "      <td>141.474178</td>\n",
       "      <td>3</td>\n",
       "      <td>3.00</td>\n",
       "      <td>2780</td>\n",
       "      <td>...</td>\n",
       "      <td>9</td>\n",
       "      <td>2780</td>\n",
       "      <td>0.0</td>\n",
       "      <td>2013</td>\n",
       "      <td>NaN</td>\n",
       "      <td>98065</td>\n",
       "      <td>47.5184</td>\n",
       "      <td>-121.886</td>\n",
       "      <td>2850</td>\n",
       "      <td>6000</td>\n",
       "    </tr>\n",
       "  </tbody>\n",
       "</table>\n",
       "<p>176 rows × 25 columns</p>\n",
       "</div>"
      ],
      "text/plain": [
       "             id       date time_diff  time_diff_seconds      price  \\\n",
       "1    6021501535 2014-12-23  151 days         13046400.0   700000.0   \n",
       "3    4139480200 2014-12-09  174 days         15033600.0  1400000.0   \n",
       "5    7520000520 2015-03-11  187 days         16156800.0   240500.0   \n",
       "7    3969300030 2014-12-29  159 days         13737600.0   239900.0   \n",
       "9    2231500030 2015-03-24  174 days         15033600.0   530000.0   \n",
       "..          ...        ...       ...                ...        ...   \n",
       "343  7853400250 2015-02-19  260 days         22464000.0   645000.0   \n",
       "345  2724049222 2014-12-01  121 days         10454400.0   220000.0   \n",
       "347  8564860270 2015-03-30  265 days         22896000.0   502000.0   \n",
       "349  6300000226 2015-05-04  312 days         26956800.0   380000.0   \n",
       "351  7853420110 2015-05-04  213 days         18403200.0   625000.0   \n",
       "\n",
       "     price_diff  rate_of_price_increase  bedrooms  bathrooms  sqft_living  \\\n",
       "1      270000.0             1788.079470         3       1.50         1580   \n",
       "3       20000.0              114.942529         4       3.25         4290   \n",
       "5        8500.0               45.454545         2       1.00         1240   \n",
       "7       74900.0              471.069182         4       1.00         1000   \n",
       "9      215000.0             1235.632184         4       2.25         2180   \n",
       "..          ...                     ...       ...        ...          ...   \n",
       "343     35000.0              134.615385         4       3.50         2910   \n",
       "345     56200.0              464.462810         2       2.50         1000   \n",
       "347     52010.0              196.264151         4       2.50         2680   \n",
       "349    140000.0              448.717949         4       1.00         1200   \n",
       "351     30134.0              141.474178         3       3.00         2780   \n",
       "\n",
       "     ...  grade  sqft_above  sqft_basement  yr_built  yr_renovated  zipcode  \\\n",
       "1    ...      8        1290          290.0      1939           0.0    98117   \n",
       "3    ...     11        2690         1600.0      1997           0.0    98006   \n",
       "5    ...      6         960          280.0      1922        1984.0    98146   \n",
       "7    ...      6        1000            0.0      1943           NaN    98178   \n",
       "9    ...      7        1100         1080.0      1954           0.0    98133   \n",
       "..   ...    ...         ...            ...       ...           ...      ...   \n",
       "343  ...      9        2910            0.0      2012           0.0    98065   \n",
       "345  ...      7         990           10.0      2004           0.0    98118   \n",
       "347  ...      8        2680            0.0      2013           0.0    98045   \n",
       "349  ...      7        1200            0.0      1933           0.0    98133   \n",
       "351  ...      9        2780            0.0      2013           NaN    98065   \n",
       "\n",
       "         lat     long  sqft_living15  sqft_lot15  \n",
       "1    47.6870 -122.386           1570        4500  \n",
       "3    47.5503 -122.102           3860       11244  \n",
       "5    47.4957 -122.352           1820        7460  \n",
       "7    47.4897 -122.240           1020        7138  \n",
       "9    47.7711 -122.341           1810        6929  \n",
       "..       ...      ...            ...         ...  \n",
       "343  47.5168 -121.883           2910        5260  \n",
       "345  47.5419 -122.271           1330        1466  \n",
       "347  47.4759 -121.734           2680        5992  \n",
       "349  47.7076 -122.342           1130        1598  \n",
       "351  47.5184 -121.886           2850        6000  \n",
       "\n",
       "[176 rows x 25 columns]"
      ]
     },
     "execution_count": 144,
     "metadata": {},
     "output_type": "execute_result"
    }
   ],
   "source": [
    "analysis_df"
   ]
  },
  {
   "cell_type": "code",
   "execution_count": 145,
   "metadata": {},
   "outputs": [],
   "source": [
    "seasonality_df = analysis_df.groupby([\"date\"]).count()"
   ]
  },
  {
   "cell_type": "code",
   "execution_count": null,
   "metadata": {},
   "outputs": [],
   "source": []
  }
 ],
 "metadata": {
  "kernelspec": {
   "display_name": "Python [conda env:learn-env] *",
   "language": "python",
   "name": "conda-env-learn-env-py"
  },
  "language_info": {
   "codemirror_mode": {
    "name": "ipython",
    "version": 3
   },
   "file_extension": ".py",
   "mimetype": "text/x-python",
   "name": "python",
   "nbconvert_exporter": "python",
   "pygments_lexer": "ipython3",
   "version": "3.6.9"
  }
 },
 "nbformat": 4,
 "nbformat_minor": 4
}
